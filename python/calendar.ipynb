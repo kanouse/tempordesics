{
 "cells": [
  {
   "cell_type": "markdown",
   "metadata": {},
   "source": [
    "# A Perennial Calendar  \n",
    "As a perennial calendar with a static structure (4x13x7+1), the same Kanouse Calendar can be used for every year. Simplifies relative date calculations and reference date contexts."
   ]
  },
  {
   "cell_type": "code",
   "execution_count": 4,
   "metadata": {},
   "outputs": [],
   "source": [
    "import math\n",
    "from datetime import datetime, date"
   ]
  },
  {
   "cell_type": "code",
   "execution_count": 43,
   "metadata": {},
   "outputs": [],
   "source": [
    "class PDate():\n",
    "    \n",
    "    year = 1\n",
    "    quarter = 0\n",
    "    week = 0\n",
    "    day = 0\n",
    "\n",
    "    quarters = [\n",
    "        'Decresco',  # Latin for 'Wane', going furthur from the sun\n",
    "        'Tantum',  # Latin for 'Far', furthest from the sun\n",
    "        'Cresco',  # Latin for 'Wax', going nearer to the sun\n",
    "        'Prope'  # Latin for 'Near', closest to the sun\n",
    "    ]\n",
    "    \n",
    "    days = [\n",
    "        'Sunday',\n",
    "        'Monday',\n",
    "        'Tuesday',\n",
    "        'Wednesday',\n",
    "        'Thursday',\n",
    "        'Friday',\n",
    "        'Saturday'\n",
    "    ]\n",
    "    \n",
    "    def __init__(self, year, quarter, week, day):\n",
    "        self.year = year\n",
    "        self.quarter = quarter\n",
    "        self.week = week\n",
    "        self.day = day\n",
    "    \n",
    "    def __init__(self):\n",
    "        pass\n",
    "    \n",
    "    def __str__(self):\n",
    "        return '-'.join([\n",
    "            str(self.year),\n",
    "            str(self.quarter), \n",
    "            f\"{self.week:02d}\",\n",
    "            str(self.day)\n",
    "        ])\n",
    "    \n",
    "    def verbose(self):\n",
    "        return (\n",
    "            self.quarters[self.quarter-1] + \n",
    "            ' ' + str(self.year) + \n",
    "            ', ' + self.days[self.day-1] + \n",
    "            ' ' + str(self.week)\n",
    "        )\n",
    "        \n",
    "        \n",
    "    \n",
    "    @staticmethod\n",
    "    def from_gdate(gdate):\n",
    "\n",
    "        p = PDate()\n",
    "        \n",
    "        # Common curency is \"days\" and common point of \n",
    "        # reference is 1 AD. \n",
    "        GREGORIAN_DAY0 = date(1, 3, 20)\n",
    "        delta = gdate - GREGORIAN_DAY0\n",
    "        days = delta.days\n",
    "\n",
    "        # Remove the leap day count from the past day \n",
    "        # count and then devide the result by 365 for the year \n",
    "        # count (+1 for the current year)\n",
    "        raw_years = (days/365)\n",
    "        leapdays = (\n",
    "            (raw_years/4) - (raw_years/100) + (raw_years/400)\n",
    "        )\n",
    "        \n",
    "        # How many days into the current year are we?\n",
    "        # Use this value to determine where in the year we are.\n",
    "        day_of_year = (days - leapdays) % 365\n",
    "\n",
    "        p.year = math.floor((days - leapdays)/365) + 1\n",
    "        p.quarter = math.floor(day_of_year / (7 * 13)) + 1\n",
    "\n",
    "        if p.quarter == 5:\n",
    "            p.quarter = 0\n",
    "            p.week = 0\n",
    "            p.day = 0\n",
    "        \n",
    "        else:\n",
    "            p.week = week_part = math.floor((day_of_year / 7) % 13) + 1\n",
    "            p.day = math.floor(day_of_year % 7) + 1\n",
    "        \n",
    "        return p\n"
   ]
  },
  {
   "cell_type": "code",
   "execution_count": 44,
   "metadata": {},
   "outputs": [
    {
     "data": {
      "text/plain": [
       "'2019-3-03-3'"
      ]
     },
     "execution_count": 44,
     "metadata": {},
     "output_type": "execute_result"
    }
   ],
   "source": [
    "class PCalendar():\n",
    "    \n",
    "    today = None\n",
    "    \n",
    "    def __init__(self):\n",
    "        self.today = PDate.from_gdate(datetime.now().date())\n",
    "    \n",
    "    \n",
    "p = PCalendar()\n",
    "\n",
    "str(p.today)\n",
    "        "
   ]
  },
  {
   "cell_type": "code",
   "execution_count": 45,
   "metadata": {},
   "outputs": [
    {
     "name": "stdout",
     "output_type": "stream",
     "text": [
      "2020-1-01-1\n",
      "Decresco 2020, Sunday 1\n"
     ]
    }
   ],
   "source": [
    "p = PDate.from_gdate(date(2020, 3, 20))\n",
    "print (str(p))\n",
    "print (p.verbose())"
   ]
  },
  {
   "cell_type": "code",
   "execution_count": 42,
   "metadata": {},
   "outputs": [],
   "source": [
    "today = date(2019, 8, 13)\n"
   ]
  },
  {
   "cell_type": "markdown",
   "metadata": {},
   "source": [
    "### Using day of the year  \n",
    "\n",
    "Remove the leap day count from the past day count and devide the result by 365 for the year count (+1 for the current year). The remainder days left over are the days into the current year. The quarter and week can be determined from the day of the year."
   ]
  },
  {
   "cell_type": "code",
   "execution_count": 152,
   "metadata": {},
   "outputs": [],
   "source": []
  },
  {
   "cell_type": "code",
   "execution_count": 153,
   "metadata": {},
   "outputs": [
    {
     "data": {
      "text/plain": [
       "(2019, 2, 8, 6, 0.30945205478928983, 145.21311643836088)"
      ]
     },
     "execution_count": 153,
     "metadata": {},
     "output_type": "execute_result"
    }
   ],
   "source": [
    "#def GDateToPDate(gdate):\n",
    "    \n",
    "    \n",
    "\n",
    "\n",
    "\n",
    "\n",
    "year_part, quarter_part, week_part, day_part, days_in, day_of_year\n",
    "\n"
   ]
  },
  {
   "cell_type": "markdown",
   "metadata": {},
   "source": [
    "## Annual period division\n",
    "\n",
    "* Each year is divided into four (4) even quarters:\n",
    " 1. The first quarter begins on the Northward Equinox (the Vernal Equinox in the Northern Hemisphere) and is referred to verbosely as \"Boreal\" in reference to the Northward progression of the solar apex.\n",
    " 1. The second quarter begins on the Northern Solstice (the Summer Solstice in the Northern Hemisphere) and is referred to verbosely as \"Perigee\" in reference to the periapsis point in Earth's proximity to the sun.\n",
    " 1. The third quarter begins on the Southward Equinox (the Autumnal Equinox in the Northern Hemisphere) and is referred to verbosely as \"Austral\" in reference to the Southward progression of the solar apex.\n",
    " 1. The fourth quarter begins on the Southern Solstice (the Winter Solstice in the Northern Hemisphere) and is referred to verbosely as \"Apogee\" in reference to the apoapsis point in Earth's proximity to the sun.\n",
    "* Each quarter is divided into thirteen (13) even weeks\n",
    "* Each week is divided into seven (7) days\n",
    "* Every year begins with a \"New Year Day\" which is does not fall into a week. Notation for New Year Day is y/0/0/0 (In a civil context this could be viewed as an additional day of respite between Saturday and Sunday.)\n",
    "* There are leap years which add an additional day to the end of the calendar. (More below.)"
   ]
  },
  {
   "cell_type": "markdown",
   "metadata": {},
   "source": [
    "## Numeric Notation\n",
    "\n",
    "The format for numeric representation of Tempordesic Dates is: [Year]/[Quarter]/[Week]/[Day]. For casting in variables the string format is: y/q/w/d"
   ]
  },
  {
   "cell_type": "markdown",
   "metadata": {},
   "source": [
    "## Verbose Notation\n",
    "\n",
    "Verbose terms exist for quarter and day segments:\n",
    "\n",
    "* Quarters 1-4 are Boreal, Perigee, Austral, and Apogee respectively. Traditional terms such as Spring, Summer, Fall and Winter are avoided to allow for common reference in Northern and Southern Hemispheres.\n",
    "* Days 1-7 are Sunday, Monday, Tuesday, Wednesday, Thursday, Friday, and Saturday respectively.\n",
    "\n",
    "The verbose form of a tempordesic date is [Quarter] [Year], [Day] [Week]. Some examples:\n",
    "\n",
    "* Boreal 2011, Monday 7 for 2011/1/7/2\n",
    "* Apogee 1996, Thursday 12 for 1996/4/12/5"
   ]
  },
  {
   "cell_type": "markdown",
   "metadata": {},
   "source": [
    "## Point of reference with the Gregorian Calendar\n",
    "\n",
    "y/1/1/1 is the Spring Equinox and roughly corresponds to March 20. Year 1, day 1 of the Tempordesic Calendar (1/1/1/1) is referenced as March 21, 1 A.D. in the Gregorian Calendar, the Spring Equinox of that year. Day 0 (1/0/0/0), the first New Year Day, March 20, 1 A.D..\n",
    "\n",
    "Note about Year One: In attempting to recalibrate perspectives on a common calendar it's tempting to also revisit the notion of Anno Domini and the Christian context for \"year one\". While perhaps it is a more culturally enlightened objective, changing or resetting our position in the timeline of years does not bring civil or logistical benefit to the process of calendar reform but rather creates an unnecessary barrier to adoption."
   ]
  },
  {
   "cell_type": "markdown",
   "metadata": {},
   "source": [
    "## Sync Days / Leap Years\n",
    "\n",
    "Earth orbits the Sun once every 365 + 0.2425 days. The 0.2425 add up, so we need synchronization days to maintain seasonal alignment. Traditional leap year rules apply to the Tempordesic Calendar, the leap day is added at the end of the last week of the last quarter (y/4/13/8). Sample code for leap year calculation:"
   ]
  },
  {
   "cell_type": "code",
   "execution_count": null,
   "metadata": {},
   "outputs": [],
   "source": [
    "def is_leap_year(year):\n",
    "    if (year % 400) == 0:\n",
    "        return True\n",
    "    elif (year % 100) == 0:\n",
    "        return False\n",
    "    elif (year % 4) == 0:\n",
    "        return True\n",
    "    else:\n",
    "        return False"
   ]
  },
  {
   "cell_type": "markdown",
   "metadata": {},
   "source": [
    "## Similarities to The World Season Calendar\n",
    "\n",
    "It is worth noting that the overall construct is similar to the World Season Calendar (WSC), a 4x91 perennial calendar proposed by Isaac Asimov, with a couple of key distinctions. The WSC begins its four quarter sequence (quarter A) at the Southern Solstice, December 21. (By starting at the Equinox, the Tempordesic Calendar is retaining a hemispheric neutrality.) In addition the WSC numbers days in a quarter 1-91 whereas the Tempordesic Calendar cycles seven day periods over 13 weeks and incorporates the week reference into the notation. For more information about the World Season Calendar a couple of related links below:\n",
    "\n",
    "* Will Shipman's \"Scientific Time\" page has a good overview of the WSC (and some other interesting notes.)  \n",
    "* General Entry at Citizendia"
   ]
  },
  {
   "cell_type": "code",
   "execution_count": null,
   "metadata": {},
   "outputs": [],
   "source": []
  }
 ],
 "metadata": {
  "kernelspec": {
   "display_name": "Python 3",
   "language": "python",
   "name": "python3"
  },
  "language_info": {
   "codemirror_mode": {
    "name": "ipython",
    "version": 3
   },
   "file_extension": ".py",
   "mimetype": "text/x-python",
   "name": "python",
   "nbconvert_exporter": "python",
   "pygments_lexer": "ipython3",
   "version": "3.7.3"
  }
 },
 "nbformat": 4,
 "nbformat_minor": 4
}
